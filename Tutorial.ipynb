{
 "cells": [
  {
   "cell_type": "markdown",
   "metadata": {},
   "source": [
    "# Preliminaries\n",
    "\n",
    "1. `pip install jplephem`\n",
    "2. `pip install sgp4`\n",
    "3. Put [**de430.bsp**](https://naif.jpl.nasa.gov/pub/naif/generic_kernels/spk/planets/de430.bsp) ephemeris into `Spacecraft_Testbed/Information/Celestial_Bodies/Ephemerides`."
   ]
  },
  {
   "cell_type": "code",
   "execution_count": 1,
   "metadata": {
    "collapsed": false
   },
   "outputs": [],
   "source": [
    "# Import the Celestial Body class\n",
    "from Spacecraft_Testbed.Body import Celestial_Body\n",
    "# Importy NumPy tools for math stuff\n",
    "from numpy import linspace"
   ]
  },
  {
   "cell_type": "code",
   "execution_count": 2,
   "metadata": {
    "collapsed": true
   },
   "outputs": [],
   "source": [
    "# Instantiate Earth and Jupiter\n",
    "Earth = Celestial_Body('Earth')\n",
    "Jupiter = Celestial_Body('Jupiter')"
   ]
  },
  {
   "cell_type": "code",
   "execution_count": 3,
   "metadata": {
    "collapsed": false
   },
   "outputs": [],
   "source": [
    "# Define Julian date of interest (March 20)\n",
    "March20  = 2457832.5 # Initial time"
   ]
  },
  {
   "cell_type": "code",
   "execution_count": 4,
   "metadata": {
    "collapsed": false
   },
   "outputs": [
    {
     "name": "stdout",
     "output_type": "stream",
     "text": [
      "Position: [ -1.48489812e+11   2.21189805e+09   9.34648913e+08]\n",
      "Velocity: [  -848.17837498 -27419.97431137 -11886.18017189]\n"
     ]
    }
   ],
   "source": [
    "# Calculate position and velocity of Earth\n",
    "# with respect to the solar system barycentre\n",
    "\n",
    "# On March 20\n",
    "p, v = Earth.Position_and_Velocity(March20)\n",
    "print \"Position: \" + str(p)\n",
    "print \"Velocity: \" + str(v)"
   ]
  },
  {
   "cell_type": "code",
   "execution_count": 5,
   "metadata": {
    "collapsed": false
   },
   "outputs": [],
   "source": [
    "# Examine the Chinese weather satellite Fengyun 1C debris fragements\n",
    "frag1 = Earth.Satellites.Fengyun_1C.Fengyun_1C_Deb_102\n",
    "frag2 = Earth.Satellites.Fengyun_1C.Fengyun_1C_Deb_105\n",
    "# Examine the Iridium debris fragement 4\n",
    "frag3 = Earth.Satellites.Iridium_33.Iridium_33_Deb_4\n",
    "# and Breeze debris fragement 1\n",
    "frag4 = Earth.Satellites.Cosmos_2251.Cosmos_2251_Deb_1"
   ]
  },
  {
   "cell_type": "code",
   "execution_count": 6,
   "metadata": {
    "collapsed": false
   },
   "outputs": [
    {
     "name": "stdout",
     "output_type": "stream",
     "text": [
      "[[ -1.48485429e+11   2.20762439e+09   9.38126603e+08]\n",
      " [  1.01969851e+03  -3.09831481e+04  -1.82752110e+04]]\n"
     ]
    }
   ],
   "source": [
    "# These positions and velocities can be shown as well\n",
    "print frag1.Position_and_Velocity(March20) # WRT SS barycentre"
   ]
  },
  {
   "cell_type": "code",
   "execution_count": 7,
   "metadata": {
    "collapsed": false
   },
   "outputs": [
    {
     "name": "stdout",
     "output_type": "stream",
     "text": [
      "[[  4.43878512e+06  -4.06131326e+06   3.82475823e+06]\n",
      " [ -2.57981748e+03   3.11725590e+03   6.29035932e+03]]\n"
     ]
    }
   ],
   "source": [
    "# WRT other planets and fragements (all derrived from the body class)\n",
    "print frag3.Position_and_Velocity_WRT(Earth, March20) # WRT Earth"
   ]
  },
  {
   "cell_type": "code",
   "execution_count": 8,
   "metadata": {
    "collapsed": false
   },
   "outputs": [
    {
     "name": "stdout",
     "output_type": "stream",
     "text": [
      "[[  1.28717072e+06   5.51727170e+06   6.76550714e+05]\n",
      " [ -6.42861377e+03   5.15034098e+03   1.20931045e+04]]\n"
     ]
    }
   ],
   "source": [
    "# WRT another fragement\n",
    "print frag4.Position_and_Velocity_WRT(frag1, March20)"
   ]
  },
  {
   "cell_type": "code",
   "execution_count": 9,
   "metadata": {
    "collapsed": false
   },
   "outputs": [
    {
     "name": "stdout",
     "output_type": "stream",
     "text": [
      "[[  6.33120497e+11   2.22664442e+11   7.64038207e+10]\n",
      " [ -5.51975218e+03  -1.35438198e+04  -3.96318645e+02]]\n"
     ]
    }
   ],
   "source": [
    "# WRT Jupiter\n",
    "print frag2.Position_and_Velocity_WRT(Jupiter, March20)"
   ]
  },
  {
   "cell_type": "code",
   "execution_count": 10,
   "metadata": {
    "collapsed": false
   },
   "outputs": [
    {
     "name": "stdout",
     "output_type": "stream",
     "text": [
      "[[ -2.57966193e+11  -1.77399718e+11  -7.84660765e+10]\n",
      " [  1.94062670e+04  -3.98292685e+04  -1.81245049e+04]]\n"
     ]
    }
   ],
   "source": [
    "# Earth WRT Mars\n",
    "print Earth.Position_and_Velocity_WRT(Celestial_Body('Mars'), March20)"
   ]
  },
  {
   "cell_type": "markdown",
   "metadata": {},
   "source": [
    "Remeber that position and velocity are given in $m$ and $\\frac{m}{s}$, respectively."
   ]
  }
 ],
 "metadata": {
  "kernelspec": {
   "display_name": "Python 2",
   "language": "python",
   "name": "python2"
  },
  "language_info": {
   "codemirror_mode": {
    "name": "ipython",
    "version": 2
   },
   "file_extension": ".py",
   "mimetype": "text/x-python",
   "name": "python",
   "nbconvert_exporter": "python",
   "pygments_lexer": "ipython2",
   "version": "2.7.12"
  }
 },
 "nbformat": 4,
 "nbformat_minor": 1
}
